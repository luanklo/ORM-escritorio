{
 "cells": [
  {
   "cell_type": "code",
   "execution_count": 1,
   "metadata": {},
   "outputs": [],
   "source": [
    "from selenium import webdriver\n",
    "from selenium.webdriver.common.by import By\n",
    "import pandas as pd\n",
    "from time import sleep"
   ]
  },
  {
   "cell_type": "code",
   "execution_count": 2,
   "metadata": {},
   "outputs": [],
   "source": [
    "from infra.Controllers.ProcessoController import ProcessoController\n",
    "from infra.Controllers.PessoaController import PessoaController\n",
    "from infra.Controllers.ParteController import ParteController\n",
    "from infra.Controllers.AdvogadoController import AdvogadoController"
   ]
  },
  {
   "cell_type": "code",
   "execution_count": 3,
   "metadata": {},
   "outputs": [],
   "source": [
    "processo_controller = ProcessoController()\n",
    "pessoa_controller = PessoaController()\n",
    "parte_controller = ParteController()\n",
    "advogado_controller = AdvogadoController()"
   ]
  },
  {
   "cell_type": "code",
   "execution_count": 4,
   "metadata": {},
   "outputs": [
    {
     "name": "stdout",
     "output_type": "stream",
     "text": [
      "[Processo [id=5, numero=0016047-10.2024.5.16.0011, valor=65450.12, vara=Vara do Trabalho de Balsas, classe=ATOrd, link=https://pje.trt16.jus.br/pjekz/processo/489528/detalhe, profissao=None], Processo [id=6, numero=0016047-10.2024.5.16.0011, valor=65450.12, vara=Vara do Trabalho de Balsas, classe=ATOrd, link=https://pje.trt16.jus.br/pjekz/processo/489528/detalhe, profissao=None]]\n"
     ]
    }
   ],
   "source": [
    "processo = processo_controller.select(numero=\"0016047-10.2024.5.16.0011\")\n",
    "print(processo)"
   ]
  },
  {
   "cell_type": "code",
   "execution_count": 5,
   "metadata": {},
   "outputs": [
    {
     "data": {
      "text/plain": [
       "''"
      ]
     },
     "execution_count": 5,
     "metadata": {},
     "output_type": "execute_result"
    }
   ],
   "source": [
    "drive = webdriver.Chrome()\n",
    "drive.get(\"https://pje.trt16.jus.br/primeirograu/authenticateSSO.seam\"); input()"
   ]
  },
  {
   "cell_type": "code",
   "execution_count": 8,
   "metadata": {},
   "outputs": [],
   "source": [
    "def cadastroProcesso(numero):\n",
    "    drive.get(\"https://pje.trt16.jus.br/primeirograu/Painel/painel_usuario/advogado.seam\")\n",
    "    drive.find_element(By.ID, \"leftAdvPnl_header_label\").click()\n",
    "    element = drive.find_element(By.ID, \"consultaProcessoAdvogadoForm:numeroProcessoDecoration:numeroProcesso\")\n",
    "    sleep(0.5)\n",
    "\n",
    "    element.get_attribute('value')\n",
    "    drive.execute_script(f\"arguments[0].value = '{numero}';\", element)\n",
    "    \n",
    "    drive.execute_script(\"arguments[0].dispatchEvent(new Event('change'));\", element)\n",
    "    sleep(1)\n",
    "    drive.find_element(By.ID, \"consultaProcessoAdvogadoForm:searchButon\").click()\n",
    "    sleep(0.5)\n",
    "\n",
    "    link = drive.find_element(By.XPATH, f\"//a[span[contains(text(), '{numero}')]]\").get_attribute('onclick')\n",
    "    link = link[link.find(\"https\"):link.find(\"')\")]\n",
    "    drive.get(link); sleep(1)\n",
    "\n",
    "    drive.find_element(By.XPATH, \"//span[@class = 'texto-numero-processo']//button\").click()\n",
    "    sleep(1)\n",
    "\n",
    "    vara = drive.find_element(By.XPATH, \"//div[@aria-label = 'Dados do processo']//dd[1]\").text\n",
    "    classe, numero = drive.find_element(By.XPATH, \"//div[@aria-label = 'Dados do processo']//dd[2]\").text.split()\n",
    "    valor = drive.find_element(By.XPATH, \"//div[@aria-label = 'Dados do processo']//dd[5]\").text.split()[1]\n",
    "\n",
    "    print(numero)\n",
    "\n",
    "    processo = processo_controller.select(numero=numero)\n",
    "    if processo: processo = processo[0]\n",
    "    else:\n",
    "        processo = processo_controller.insert(\n",
    "            numero=numero,\n",
    "            valor=valor.replace('.', '').replace(',', '.'),\n",
    "            vara=vara,\n",
    "            classe=classe,\n",
    "            link=link\n",
    "        )\n",
    "    \n",
    "    partes = drive.find_elements(By.XPATH, \"//div[@id= 'processo-partes']\")\n",
    "    for parte in partes:\n",
    "        polo = parte.find_element(By.CLASS_NAME, \"polo-header\").text.split()[1]\n",
    "        print(polo)\n",
    "\n",
    "        pessoas = parte.find_elements(By.TAG_NAME, \"ul\")[::2]\n",
    "        print(len(pessoas))\n",
    "        for pessoa in pessoas:\n",
    "            nome = pessoa.find_element(By.TAG_NAME, \"pje-nome-parte\").text\n",
    "            pessoa_dados = [x.text for x in pessoa.find_elements(By.CLASS_NAME, \"ng-star-inserted\")[:2]]\n",
    "            cpf_cnpj = pessoa_dados[0].split()[1] if pessoa_dados[0] != \"\" else pessoa_dados[1].split()[1]\n",
    "\n",
    "            Pessoa = pessoa_controller.select(nome=nome,cpf_cnpj=cpf_cnpj)\n",
    "            if Pessoa: Pessoa = Pessoa[0]            \n",
    "            else: Pessoa = pessoa_controller.insert(nome=nome, cpf_cnpj=cpf_cnpj)\n",
    "            print(Pessoa)\n",
    "\n",
    "            tipo = pessoa.find_element(By.TAG_NAME, \"li\").text[:-1]\n",
    "\n",
    "            parte = parte_controller.select(pessoa_id=Pessoa.id, processo_id=processo.id)\n",
    "            if parte: parte = parte[0]\n",
    "            else:\n",
    "                parte = parte_controller.insert(\n",
    "                    tipo=tipo,\n",
    "                    polo=polo,\n",
    "                    processo_id=processo.id,\n",
    "                    pessoa_id=Pessoa.id\n",
    "                )\n",
    "\n",
    "\n",
    "            for adv in pessoa.find_elements(By.CLASS_NAME, \"partes-representante\"):\n",
    "                nome, cpf, aob = adv.text.split(\"\\n\")[:3]\n",
    "                nome = nome[:nome.find(\" (ADVOGADO)\")]\n",
    "                aob = aob.split()[1][:-1]\n",
    "                \n",
    "                advogado = advogado_controller.select(aob=aob)\n",
    "                if advogado: advogado = advogado[0]\n",
    "                else:\n",
    "                    advogado = advogado_controller.insert(\n",
    "                        nome=nome,\n",
    "                        aob=aob\n",
    "                    )\n",
    "                \n",
    "                print(advogado)\n",
    "                parte.addAdvogado(advogado)"
   ]
  },
  {
   "cell_type": "code",
   "execution_count": 11,
   "metadata": {},
   "outputs": [
    {
     "name": "stdout",
     "output_type": "stream",
     "text": [
      "0017007-63.2024.5.16.0011\n",
      "Ativo\n",
      "4\n",
      "Pessoa [id=20, nome=LUIS CARLOS NUNES DIAS, cpf_cnpj=039.324.383-45, numero=None]\n",
      "Advogado [id=13, nome=Luan Sousa Alencar, aob=MA22991]\n",
      "Pessoa [id=21, nome=JOSE DIAS DE JESUS, cpf_cnpj=608.296.323-79, numero=None]\n",
      "Advogado [id=13, nome=Luan Sousa Alencar, aob=MA22991]\n",
      "Pessoa [id=22, nome=MARIA DA GUARDA NUNES DIAS, cpf_cnpj=033.402.003-43, numero=None]\n",
      "Advogado [id=13, nome=Luan Sousa Alencar, aob=MA22991]\n",
      "Pessoa [id=23, nome=MINISTÉRIO PÚBLICO DO TRABALHO, cpf_cnpj=26.989.715/0001-02, numero=None]\n"
     ]
    },
    {
     "ename": "ValueError",
     "evalue": "not enough values to unpack (expected 3, got 1)",
     "output_type": "error",
     "traceback": [
      "\u001b[1;31m---------------------------------------------------------------------------\u001b[0m",
      "\u001b[1;31mValueError\u001b[0m                                Traceback (most recent call last)",
      "Cell \u001b[1;32mIn[11], line 1\u001b[0m\n\u001b[1;32m----> 1\u001b[0m \u001b[43mcadastroProcesso\u001b[49m\u001b[43m(\u001b[49m\u001b[38;5;124;43m\"\u001b[39;49m\u001b[38;5;124;43m0017007-63.2024.5.16.0011\u001b[39;49m\u001b[38;5;124;43m\"\u001b[39;49m\u001b[43m)\u001b[49m\n",
      "Cell \u001b[1;32mIn[8], line 70\u001b[0m, in \u001b[0;36mcadastroProcesso\u001b[1;34m(numero)\u001b[0m\n\u001b[0;32m     61\u001b[0m     parte \u001b[38;5;241m=\u001b[39m parte_controller\u001b[38;5;241m.\u001b[39minsert(\n\u001b[0;32m     62\u001b[0m         tipo\u001b[38;5;241m=\u001b[39mtipo,\n\u001b[0;32m     63\u001b[0m         polo\u001b[38;5;241m=\u001b[39mpolo,\n\u001b[0;32m     64\u001b[0m         processo_id\u001b[38;5;241m=\u001b[39mprocesso\u001b[38;5;241m.\u001b[39mid,\n\u001b[0;32m     65\u001b[0m         pessoa_id\u001b[38;5;241m=\u001b[39mPessoa\u001b[38;5;241m.\u001b[39mid\n\u001b[0;32m     66\u001b[0m     )\n\u001b[0;32m     69\u001b[0m \u001b[38;5;28;01mfor\u001b[39;00m adv \u001b[38;5;129;01min\u001b[39;00m pessoa\u001b[38;5;241m.\u001b[39mfind_elements(By\u001b[38;5;241m.\u001b[39mCLASS_NAME, \u001b[38;5;124m\"\u001b[39m\u001b[38;5;124mpartes-representante\u001b[39m\u001b[38;5;124m\"\u001b[39m):\n\u001b[1;32m---> 70\u001b[0m     nome, cpf, aob \u001b[38;5;241m=\u001b[39m adv\u001b[38;5;241m.\u001b[39mtext\u001b[38;5;241m.\u001b[39msplit(\u001b[38;5;124m\"\u001b[39m\u001b[38;5;130;01m\\n\u001b[39;00m\u001b[38;5;124m\"\u001b[39m)[:\u001b[38;5;241m3\u001b[39m]\n\u001b[0;32m     71\u001b[0m     nome \u001b[38;5;241m=\u001b[39m nome[:nome\u001b[38;5;241m.\u001b[39mfind(\u001b[38;5;124m\"\u001b[39m\u001b[38;5;124m (ADVOGADO)\u001b[39m\u001b[38;5;124m\"\u001b[39m)]\n\u001b[0;32m     72\u001b[0m     aob \u001b[38;5;241m=\u001b[39m aob\u001b[38;5;241m.\u001b[39msplit()[\u001b[38;5;241m1\u001b[39m][:\u001b[38;5;241m-\u001b[39m\u001b[38;5;241m1\u001b[39m]\n",
      "\u001b[1;31mValueError\u001b[0m: not enough values to unpack (expected 3, got 1)"
     ]
    }
   ],
   "source": [
    "cadastroProcesso(\"0017007-63.2024.5.16.0011\")"
   ]
  }
 ],
 "metadata": {
  "kernelspec": {
   "display_name": "Python 3",
   "language": "python",
   "name": "python3"
  },
  "language_info": {
   "codemirror_mode": {
    "name": "ipython",
    "version": 3
   },
   "file_extension": ".py",
   "mimetype": "text/x-python",
   "name": "python",
   "nbconvert_exporter": "python",
   "pygments_lexer": "ipython3",
   "version": "3.11.9"
  }
 },
 "nbformat": 4,
 "nbformat_minor": 2
}
