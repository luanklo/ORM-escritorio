{
 "cells": [
  {
   "cell_type": "code",
   "execution_count": 1,
   "metadata": {},
   "outputs": [],
   "source": [
    "from selenium import webdriver\n",
    "from selenium.webdriver.common.by import By\n",
    "import pandas as pd\n",
    "from time import sleep"
   ]
  },
  {
   "cell_type": "code",
   "execution_count": 2,
   "metadata": {},
   "outputs": [],
   "source": [
    "from infra.Controllers.ProcessoController import ProcessoController\n",
    "from infra.Controllers.PessoaController import PessoaController\n",
    "from infra.Controllers.ParteController import ParteController\n",
    "from infra.Controllers.AdvogadoController import AdvogadoController"
   ]
  },
  {
   "cell_type": "code",
   "execution_count": 3,
   "metadata": {},
   "outputs": [],
   "source": [
    "processo_controller = ProcessoController()\n",
    "pessoa_controller = PessoaController()\n",
    "parte_controller = ParteController()\n",
    "advogado_controller = AdvogadoController()"
   ]
  },
  {
   "cell_type": "code",
   "execution_count": null,
   "metadata": {},
   "outputs": [],
   "source": [
    "processo = processo_controller.select(numero=\"0016047-10.2024.5.16.0011\")\n",
    "print(processo)"
   ]
  },
  {
   "cell_type": "code",
   "execution_count": null,
   "metadata": {},
   "outputs": [],
   "source": [
    "drive = webdriver.Chrome()\n",
    "drive.get(\"https://pje.trt16.jus.br/primeirograu/authenticateSSO.seam\"); input()"
   ]
  },
  {
   "cell_type": "code",
   "execution_count": 8,
   "metadata": {},
   "outputs": [],
   "source": [
    "def cadastroProcesso(numero):\n",
    "    drive.get(\"https://pje.trt16.jus.br/primeirograu/Painel/painel_usuario/advogado.seam\")\n",
    "    drive.find_element(By.ID, \"leftAdvPnl_header_label\").click()\n",
    "    element = drive.find_element(By.ID, \"consultaProcessoAdvogadoForm:numeroProcessoDecoration:numeroProcesso\")\n",
    "    sleep(0.5)\n",
    "\n",
    "    element.get_attribute('value')\n",
    "    drive.execute_script(f\"arguments[0].value = '{numero}';\", element)\n",
    "    \n",
    "    drive.execute_script(\"arguments[0].dispatchEvent(new Event('change'));\", element)\n",
    "    sleep(1)\n",
    "    drive.find_element(By.ID, \"consultaProcessoAdvogadoForm:searchButon\").click()\n",
    "    sleep(0.5)\n",
    "\n",
    "    link = drive.find_element(By.XPATH, f\"//a[span[contains(text(), '{numero}')]]\").get_attribute('onclick')\n",
    "    link = link[link.find(\"https\"):link.find(\"')\")]\n",
    "    drive.get(link); sleep(1)\n",
    "\n",
    "    drive.find_element(By.XPATH, \"//span[@class = 'texto-numero-processo']//button\").click()\n",
    "    sleep(1)\n",
    "\n",
    "    vara = drive.find_element(By.XPATH, \"//div[@aria-label = 'Dados do processo']//dd[1]\").text\n",
    "    classe, numero = drive.find_element(By.XPATH, \"//div[@aria-label = 'Dados do processo']//dd[2]\").text.split()\n",
    "    valor = drive.find_element(By.XPATH, \"//div[@aria-label = 'Dados do processo']//dd[5]\").text.split()[1]\n",
    "\n",
    "    print(numero)\n",
    "\n",
    "    processo = processo_controller.select(numero=numero)\n",
    "    if processo: processo = processo[0]\n",
    "    else:\n",
    "        processo = processo_controller.insert(\n",
    "            numero=numero,\n",
    "            valor=valor.replace('.', '').replace(',', '.'),\n",
    "            vara=vara,\n",
    "            classe=classe,\n",
    "            link=link\n",
    "        )\n",
    "    \n",
    "    partes = drive.find_elements(By.XPATH, \"//div[@id= 'processo-partes']\")\n",
    "    for parte in partes:\n",
    "        polo = parte.find_element(By.CLASS_NAME, \"polo-header\").text.split()[1]\n",
    "        print(polo)\n",
    "\n",
    "        pessoas = parte.find_elements(By.TAG_NAME, \"ul\")[::2]\n",
    "        print(len(pessoas))\n",
    "        for pessoa in pessoas:\n",
    "            nome = pessoa.find_element(By.TAG_NAME, \"pje-nome-parte\").text\n",
    "            pessoa_dados = [x.text for x in pessoa.find_elements(By.CLASS_NAME, \"ng-star-inserted\")[:2]]\n",
    "            cpf_cnpj = pessoa_dados[0].split()[1] if pessoa_dados[0] != \"\" else pessoa_dados[1].split()[1]\n",
    "\n",
    "            Pessoa = pessoa_controller.select(nome=nome,cpf_cnpj=cpf_cnpj)\n",
    "            if Pessoa: Pessoa = Pessoa[0]            \n",
    "            else: Pessoa = pessoa_controller.insert(nome=nome, cpf_cnpj=cpf_cnpj)\n",
    "            print(Pessoa)\n",
    "\n",
    "            tipo = pessoa.find_element(By.TAG_NAME, \"li\").text[:-1]\n",
    "\n",
    "            parte = parte_controller.select(pessoa_id=Pessoa.id, processo_id=processo.id)\n",
    "            if parte: parte = parte[0]\n",
    "            else:\n",
    "                parte = parte_controller.insert(\n",
    "                    tipo=tipo,\n",
    "                    polo=polo,\n",
    "                    processo_id=processo.id,\n",
    "                    pessoa_id=Pessoa.id\n",
    "                )\n",
    "\n",
    "\n",
    "            for adv in pessoa.find_elements(By.CLASS_NAME, \"partes-representante\"):\n",
    "                nome, cpf, aob = adv.text.split(\"\\n\")[:3]\n",
    "                nome = nome[:nome.find(\" (ADVOGADO)\")]\n",
    "                aob = aob.split()[1][:-1]\n",
    "                \n",
    "                advogado = advogado_controller.select(aob=aob)\n",
    "                if advogado: advogado = advogado[0]\n",
    "                else:\n",
    "                    advogado = advogado_controller.insert(\n",
    "                        nome=nome,\n",
    "                        aob=aob\n",
    "                    )\n",
    "                \n",
    "                print(advogado)\n",
    "                parte.addAdvogado(advogado)"
   ]
  },
  {
   "cell_type": "code",
   "execution_count": null,
   "metadata": {},
   "outputs": [],
   "source": [
    "cadastroProcesso(\"\")"
   ]
  }
 ],
 "metadata": {
  "kernelspec": {
   "display_name": "Python 3",
   "language": "python",
   "name": "python3"
  },
  "language_info": {
   "codemirror_mode": {
    "name": "ipython",
    "version": 3
   },
   "file_extension": ".py",
   "mimetype": "text/x-python",
   "name": "python",
   "nbconvert_exporter": "python",
   "pygments_lexer": "ipython3",
   "version": "3.11.9"
  }
 },
 "nbformat": 4,
 "nbformat_minor": 2
}
