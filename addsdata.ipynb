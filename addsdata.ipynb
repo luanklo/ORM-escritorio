{
 "cells": [
  {
   "cell_type": "code",
   "execution_count": null,
   "metadata": {},
   "outputs": [],
   "source": [
    "from infra.Controllers.ProcessoController import ProcessoController\n",
    "# from infra.Controllers.PessoaController import PessoaController\n",
    "# from infra.Controllers.ParteController import ParteController\n",
    "# from infra.Controllers.AdvogadoController import AdvogadoController\n",
    "# from infra.Controllers.AudienciaController import AudienciaController"
   ]
  },
  {
   "cell_type": "code",
   "execution_count": null,
   "metadata": {},
   "outputs": [],
   "source": [
    "processo_controller = ProcessoController()\n",
    "processo = processo_controller.select()\n",
    "print(processo)\n",
    "#processo = processo_controller\n",
    "#processo_contorller.insert(\n",
    "#    numero = \"0016047-10.2024.5.16.0011\",\n",
    "#    valor  = 65450.12,\n",
    "#    vara   = \"Vara do Trabalho de Balsas\",\n",
    "#    classe = \"ATOrd\",\n",
    "#    link   = \"https://pje.trt16.jus.br/pjekz/processo/489528/detalhe\"\n",
    "#)"
   ]
  }
 ],
 "metadata": {
  "kernelspec": {
   "display_name": "Python 3",
   "language": "python",
   "name": "python3"
  },
  "language_info": {
   "codemirror_mode": {
    "name": "ipython",
    "version": 3
   },
   "file_extension": ".py",
   "mimetype": "text/x-python",
   "name": "python",
   "nbconvert_exporter": "python",
   "pygments_lexer": "ipython3",
   "version": "3.11.9"
  }
 },
 "nbformat": 4,
 "nbformat_minor": 2
}
