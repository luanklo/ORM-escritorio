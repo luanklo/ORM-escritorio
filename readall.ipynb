{
 "cells": [
  {
   "cell_type": "code",
   "execution_count": null,
   "metadata": {},
   "outputs": [],
   "source": [
    "from selenium import webdriver\n",
    "from selenium.webdriver.common.by import By\n",
    "from selenium.webdriver.support.wait import WebDriverWait\n",
    "from selenium.webdriver.support import expected_conditions as EC"
   ]
  },
  {
   "cell_type": "code",
   "execution_count": null,
   "metadata": {},
   "outputs": [],
   "source": [
    "driver = webdriver.Chrome()"
   ]
  },
  {
   "cell_type": "code",
   "execution_count": null,
   "metadata": {},
   "outputs": [],
   "source": [
    "driver.get(f\"https://pje.trt16.jus.br/primeirograu/authenticateSSO.seam\"); input()"
   ]
  },
  {
   "cell_type": "code",
   "execution_count": null,
   "metadata": {},
   "outputs": [],
   "source": [
    "driver.get(f'https://pje.trt16.jus.br/primeirograu/Painel/painel_usuario/advogado.seam')\n",
    "driver.find_element(By.ID, \"leftAdvPnl_header_label\").click()\n",
    "driver.find_element(By.ID, \"consultaProcessoAdvogadoForm:searchButon\").click()"
   ]
  },
  {
   "cell_type": "code",
   "execution_count": null,
   "metadata": {},
   "outputs": [],
   "source": [
    "WebDriverWait(driver, 10).until(EC.presence_of_element_located((By.XPATH, \"//div[@class = 'rich-panel-body panel']/span\")))\n",
    "\n",
    "count_processo = int(driver.find_element(By.XPATH, \"//div[@class = 'rich-panel-body panel']/span\").text.split()[-2])\n",
    "count_pages = count_processo//15 + (count_processo%15 != 0)\n",
    "\n",
    "processos = []"
   ]
  },
  {
   "cell_type": "code",
   "execution_count": null,
   "metadata": {},
   "outputs": [],
   "source": [
    "table = driver.find_element(By.XPATH, \"//table[@class = 'rich-table']\")\n",
    "for page in range(count_pages):\n",
    "    if page != 0:\n",
    "        driver.find_elements(By.CLASS_NAME,\"rich-inslider-td-arrow\")[1].click()\n",
    "\n",
    "        WebDriverWait(driver, 10, poll_frequency=1).until(lambda _: table != driver.find_element(By.XPATH, \"//table[@class = 'rich-table']\"))\n",
    "        table = driver.find_element(By.XPATH, \"//table[@class = 'rich-table']\")\n",
    "\n",
    "    numeros = driver.find_elements(By.XPATH, \"//table[@class = 'rich-table']//a/span\")\n",
    "    for numero in numeros:\n",
    "        numero = numero.text.split()[1]\n",
    "        processos.append(numero)"
   ]
  },
  {
   "cell_type": "code",
   "execution_count": null,
   "metadata": {},
   "outputs": [],
   "source": [
    "print(f\"{count_processo} processos\")\n",
    "print(f\"{len(processos)} processos coletados\")\n",
    "print(f\"{len(set(processos))} processos unicos\")\n",
    "print(f\"{len(processos) - len(set(processos))} processos duplicados\")\n",
    "print(f\"{count_processo - len(set(processos))} processos perdidos\")"
   ]
  }
 ],
 "metadata": {
  "kernelspec": {
   "display_name": "Python 3",
   "language": "python",
   "name": "python3"
  },
  "language_info": {
   "codemirror_mode": {
    "name": "ipython",
    "version": 3
   },
   "file_extension": ".py",
   "mimetype": "text/x-python",
   "name": "python",
   "nbconvert_exporter": "python",
   "pygments_lexer": "ipython3",
   "version": "3.11.9"
  }
 },
 "nbformat": 4,
 "nbformat_minor": 2
}
