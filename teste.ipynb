{
 "cells": [
  {
   "cell_type": "code",
   "execution_count": 1,
   "metadata": {},
   "outputs": [],
   "source": [
    "from selenium import webdriver\n",
    "from selenium.webdriver.common.by import By\n",
    "import pandas as pd\n",
    "from time import sleep"
   ]
  },
  {
   "cell_type": "code",
   "execution_count": 2,
   "metadata": {},
   "outputs": [],
   "source": [
    "from infra.Controllers.ProcessoController import ProcessoController\n",
    "from infra.Controllers.PessoaController import PessoaController\n",
    "from infra.Controllers.ParteController import ParteController"
   ]
  },
  {
   "cell_type": "code",
   "execution_count": 3,
   "metadata": {},
   "outputs": [],
   "source": [
    "processo_controller = ProcessoController()"
   ]
  },
  {
   "cell_type": "code",
   "execution_count": 4,
   "metadata": {},
   "outputs": [
    {
     "name": "stdout",
     "output_type": "stream",
     "text": [
      "[Processo [id=5, numero=0016047-10.2024.5.16.0011, valor=65450.12, vara=Vara do Trabalho de Balsas, classe=ATOrd, link=https://pje.trt16.jus.br/pjekz/processo/489528/detalhe, profissao=None], Processo [id=6, numero=0016047-10.2024.5.16.0011, valor=65450.12, vara=Vara do Trabalho de Balsas, classe=ATOrd, link=https://pje.trt16.jus.br/pjekz/processo/489528/detalhe, profissao=None]]\n"
     ]
    }
   ],
   "source": [
    "processo = processo_controller.select(numero=\"0016047-10.2024.5.16.0011\")\n",
    "print(processo)"
   ]
  },
  {
   "cell_type": "code",
   "execution_count": 5,
   "metadata": {},
   "outputs": [],
   "source": [
    "#drive = webdriver.Chrome()\n",
    "#drive.get(\"https://pje.trt16.jus.br/primeirograu/authenticateSSO.seam\"); input()"
   ]
  },
  {
   "cell_type": "code",
   "execution_count": 6,
   "metadata": {},
   "outputs": [],
   "source": [
    "def cadastroProcesso(numero):\n",
    "    drive.get(\"https://pje.trt16.jus.br/primeirograu/Painel/painel_usuario/advogado.seam\")\n",
    "    drive.find_element(By.ID, \"leftAdvPnl_header_label\").click()\n",
    "    element = drive.find_element(By.ID, \"consultaProcessoAdvogadoForm:numeroProcessoDecoration:numeroProcesso\")\n",
    "    sleep(0.5)\n",
    "\n",
    "    element.get_attribute('value')\n",
    "    drive.execute_script(f\"arguments[0].value = '{numero}';\", element)\n",
    "    \n",
    "    drive.execute_script(\"arguments[0].dispatchEvent(new Event('change'));\", element)\n",
    "    sleep(0.5)\n",
    "    drive.find_element(By.ID, \"consultaProcessoAdvogadoForm:searchButon\").click()\n",
    "    sleep(0.5)\n",
    "\n",
    "    link = drive.find_element(By.XPATH, \"//a[span[contains(text(), '0016047-10.2024.5.16.0011')]]\").get_attribute('onclick')\n",
    "    link = link[link.find(\"https\"):link.find(\"')\")]\n",
    "    drive.get(link); sleep(1)\n",
    "\n",
    "    drive.find_element(By.XPATH, \"//span[@class = 'texto-numero-processo']//button\").click()\n",
    "\n",
    "    vara = drive.find_element(By.XPATH, \"//div[@aria-label = 'Dados do processo']//dd[1]\").text\n",
    "    classe, numero = drive.find_element(By.XPATH, \"//div[@aria-label = 'Dados do processo']//dd[2]\").text.split()\n",
    "    valor = drive.find_element(By.XPATH, \"//div[@aria-label = 'Dados do processo']//dd[5]\").text.split()[1]\n",
    "\n",
    "    print(numero)\n",
    "\n",
    "    processo = processo_controller.select(numero=numero)\n",
    "    if processo: processo = processo[0]\n",
    "    else:\n",
    "        processo = processo_controller.insert(\n",
    "            numero=numero,\n",
    "            valor=valor.replace('.', '').replace(',', '.'),\n",
    "            vara=vara,\n",
    "            classe=classe,\n",
    "            link=link\n",
    "        )\n",
    "    \n",
    "    print(processo)"
   ]
  },
  {
   "cell_type": "code",
   "execution_count": 7,
   "metadata": {},
   "outputs": [],
   "source": [
    "#cadastroProcesso(\"0016047-10.2024.5.16.0011\")"
   ]
  }
 ],
 "metadata": {
  "kernelspec": {
   "display_name": "Python 3",
   "language": "python",
   "name": "python3"
  },
  "language_info": {
   "codemirror_mode": {
    "name": "ipython",
    "version": 3
   },
   "file_extension": ".py",
   "mimetype": "text/x-python",
   "name": "python",
   "nbconvert_exporter": "python",
   "pygments_lexer": "ipython3",
   "version": "3.11.9"
  }
 },
 "nbformat": 4,
 "nbformat_minor": 2
}
