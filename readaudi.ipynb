{
 "cells": [
  {
   "cell_type": "code",
   "execution_count": null,
   "metadata": {},
   "outputs": [],
   "source": [
    "from selenium import webdriver\n",
    "from selenium.webdriver.common.by import By\n",
    "from selenium.webdriver.support.wait import WebDriverWait\n",
    "from selenium.webdriver.support import expected_conditions as EC\n",
    "from datetime import datetime, timedelta"
   ]
  },
  {
   "cell_type": "code",
   "execution_count": null,
   "metadata": {},
   "outputs": [],
   "source": [
    "driver = webdriver.Chrome()"
   ]
  },
  {
   "cell_type": "code",
   "execution_count": null,
   "metadata": {},
   "outputs": [],
   "source": [
    "driver.get(f\"https://pje.trt16.jus.br/primeirograu/authenticateSSO.seam\"); input()"
   ]
  },
  {
   "cell_type": "code",
   "execution_count": 45,
   "metadata": {},
   "outputs": [],
   "source": [
    "def readtable():\n",
    "    WebDriverWait(driver, 10).until(lambda _: driver.find_element(By.XPATH, \"//span[@id = '_viewRoot:status']\").get_attribute('style') != 'display: none;')\n",
    "    count_audi = int(driver.find_element(By.XPATH, '//*[@id=\"idProcessoAudienciaPanel_body\"]/span').text.split()[2])\n",
    "    pages = count_audi//15 + (count_audi%15 != 0)\n",
    "\n",
    "    print(count_audi)\n",
    "\n",
    "    table = driver.find_element(By.XPATH,'//*[@id=\"idProcessoAudiencia\"]')\n",
    "    for page in range(pages):\n",
    "        if page != 0:\n",
    "            driver.find_elements(By.CLASS_NAME,\"rich-inslider-td-arrow\")[1].click()\n",
    "\n",
    "            WebDriverWait(driver, 10, poll_frequency=1).until(lambda _: table != driver.find_element(By.XPATH,'//*[@id=\"idProcessoAudiencia\"]'))\n",
    "            table = driver.find_element(By.XPATH,'//*[@id=\"idProcessoAudiencia\"]')\n"
   ]
  },
  {
   "cell_type": "code",
   "execution_count": 50,
   "metadata": {},
   "outputs": [],
   "source": [
    "def adddate(dadeinit = datetime.now(), meses = 1):\n",
    "    if meses == 0: return\n",
    "    driver.get(f\"https://pje.trt16.jus.br/primeirograu/ProcessoAudiencia/PautaAudiencia/listView.seam\")\n",
    "    WebDriverWait(driver, 10).until(EC.presence_of_element_located((By.ID,\"processoAudienciaSearchForm:searchButton\")))\n",
    "\n",
    "\n",
    "    dadefina = dadeinit + timedelta(days=30)\n",
    "\n",
    "    datas = driver.find_elements(By.XPATH,\"//input[@class='rich-calendar-input dtIniciomaskDate']\")\n",
    "    driver.execute_script(f\"arguments[0].setAttribute('value', '{dadefina.strftime('%d/%m/%Y')}')\", datas[1])\n",
    "    driver.execute_script(f\"arguments[0].setAttribute('value', '{dadeinit.strftime('%d/%m/%Y')}')\", datas[0])\n",
    "    \n",
    "    driver.find_element(By.ID,\"processoAudienciaSearchForm:searchButton\").click()\n",
    "    \n",
    "    readtable()\n",
    "    adddate(dadeinit=dadefina + timedelta(days=1), meses = meses-1)"
   ]
  },
  {
   "cell_type": "code",
   "execution_count": 53,
   "metadata": {},
   "outputs": [
    {
     "name": "stdout",
     "output_type": "stream",
     "text": [
      "8\n",
      "48\n",
      "41\n",
      "9\n",
      "5\n",
      "0\n",
      "0\n",
      "0\n",
      "0\n",
      "0\n",
      "0\n",
      "0\n"
     ]
    }
   ],
   "source": [
    "adddate(meses=12)"
   ]
  }
 ],
 "metadata": {
  "kernelspec": {
   "display_name": "Python 3",
   "language": "python",
   "name": "python3"
  },
  "language_info": {
   "codemirror_mode": {
    "name": "ipython",
    "version": 3
   },
   "file_extension": ".py",
   "mimetype": "text/x-python",
   "name": "python",
   "nbconvert_exporter": "python",
   "pygments_lexer": "ipython3",
   "version": "3.11.9"
  }
 },
 "nbformat": 4,
 "nbformat_minor": 2
}
